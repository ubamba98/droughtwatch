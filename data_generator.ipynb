{
 "cells": [
  {
   "cell_type": "code",
   "execution_count": 1,
   "metadata": {},
   "outputs": [
    {
     "name": "stdout",
     "output_type": "stream",
     "text": [
      "WARNING:tensorflow:From /home/debjani/.local/lib/python3.7/site-packages/tensorflow_core/python/compat/v2_compat.py:65: disable_resource_variables (from tensorflow.python.ops.variable_scope) is deprecated and will be removed in a future version.\n",
      "Instructions for updating:\n",
      "non-resource variables are not supported in the long term\n"
     ]
    }
   ],
   "source": [
    "import os\n",
    "import glob\n",
    "import matplotlib.pyplot as plt\n",
    "import numpy as np\n",
    "import tensorflow\n",
    "#import tensorflow as tf\n",
    "import tensorflow.compat.v1 as tf\n",
    "tf.disable_v2_behavior()"
   ]
  },
  {
   "cell_type": "code",
   "execution_count": 2,
   "metadata": {},
   "outputs": [],
   "source": [
    "tf.enable_eager_execution()"
   ]
  },
  {
   "cell_type": "code",
   "execution_count": 16,
   "metadata": {},
   "outputs": [],
   "source": [
    "base_dir = \"/home/debjani/Desktop/droughtwatch1/data/train\"\n",
    "get_files_path = base_dir + \"/*\"\n",
    "training_files = sorted(glob.glob(get_files_path))\n",
    "#print((training_files))\n",
    "\n",
    "def parse_visual(data):\n",
    "    #count = 0\n",
    "    dataset = tf.data.TFRecordDataset(data)\n",
    "    # pattern for one part file\n",
    "    # dataset = tf.data.TFRecordDataset('part-r-00099')\n",
    "    iterator = dataset.make_one_shot_iterator()\n",
    "    features = {\n",
    "      'B1': tf.io.FixedLenFeature([], tf.string),\n",
    "      'B2': tf.io.FixedLenFeature([], tf.string),\n",
    "      'B3': tf.io.FixedLenFeature([], tf.string),\n",
    "      'B4': tf.io.FixedLenFeature([], tf.string),\n",
    "      'B5': tf.io.FixedLenFeature([], tf.string),\n",
    "      'B5': tf.io.FixedLenFeature([], tf.string),\n",
    "      'B6': tf.io.FixedLenFeature([], tf.string),\n",
    "      'B7': tf.io.FixedLenFeature([], tf.string),\n",
    "      'B8': tf.io.FixedLenFeature([], tf.string),\n",
    "      'B9': tf.io.FixedLenFeature([], tf.string),\n",
    "      'B10': tf.io.FixedLenFeature([], tf.string),\n",
    "      'B11': tf.io.FixedLenFeature([], tf.string),\n",
    "      'label': tf.io.FixedLenFeature([], tf.int64),\n",
    "    }  \n",
    "\n",
    "    parsed_examples = [tf.parse_single_example(data, features) for data in iterator]\n",
    "    #count+=1\n",
    "    #print(count)\n",
    "    return parsed_examples\n"
   ]
  },
  {
   "cell_type": "code",
   "execution_count": 17,
   "metadata": {},
   "outputs": [],
   "source": [
    "def get_img_from_example(parsed_example, intensify=True):\n",
    "    bandArray = np.zeros((65,65,11), 'uint8')\n",
    "    for i, band in enumerate(['B1','B2', 'B3', 'B4', 'B5', 'B6', 'B7', 'B8', 'B9','B10', \"B11\"]):\n",
    "        band_data = np.frombuffer(parsed_example[band].numpy(), dtype=np.uint8)\n",
    "        band_data = band_data.reshape(65, 65)\n",
    "        if intensify:\n",
    "            band_data = band_data/np.max(band_data)*255\n",
    "        else:\n",
    "            band_data = band_data*255\n",
    "        bandArray[..., i] = band_data\n",
    "        \n",
    "    label = tf.cast(parsed_example['label'], tf.int32).numpy()\n",
    "        \n",
    "    return bandArray, label"
   ]
  },
  {
   "cell_type": "code",
   "execution_count": 18,
   "metadata": {},
   "outputs": [
    {
     "name": "stderr",
     "output_type": "stream",
     "text": [
      "/home/debjani/anaconda3/envs/env3/lib/python3.7/site-packages/ipykernel_launcher.py:7: RuntimeWarning: invalid value encountered in true_divide\n",
      "  import sys\n"
     ]
    }
   ],
   "source": [
    "img_idx = 0\n",
    "img_list = []\n",
    "label_list= []\n",
    "parsed_examples = []\n",
    "#print(training_files[1])\n",
    "for i in range(len(training_files) - 1):\n",
    "    parsed_examples = parse_visual(training_files[i]) \n",
    "    for j in range(0,(len(parsed_examples)-1)):\n",
    "        image, label = get_img_from_example(parsed_examples[j])\n",
    "        image_dir = os.path.join(base_dir, 'images_all')\n",
    "        label_dir = os.path.join(base_dir, 'label_all')\n",
    "        if not os.path.exists(image_dir):\n",
    "            os.mkdir(image_dir)\n",
    "        filename = image_dir + \"/\" + \"image_\" + str(img_idx).zfill(5)\n",
    "        np.save(filename, image)\n",
    "        \n",
    "        if not os.path.exists(label_dir):\n",
    "            os.mkdir(label_dir)\n",
    "        label_list.append(str(img_idx).zfill(5) + \" \" + str(label))\n",
    "        #label_list.append(label)\n",
    "        img_idx += 1\n",
    "file = label_dir + \"/\" +  \"train_labels.txt\"\n",
    "with open(file, \"w\") as f:\n",
    "    for s in label_list:\n",
    "        #print(s)\n",
    "        f.write(str(s) +\"\\n\")\n"
   ]
  },
  {
   "cell_type": "code",
   "execution_count": null,
   "metadata": {},
   "outputs": [],
   "source": [
    "\n"
   ]
  }
 ],
 "metadata": {
  "kernelspec": {
   "display_name": "Python 3",
   "language": "python",
   "name": "python3"
  },
  "language_info": {
   "codemirror_mode": {
    "name": "ipython",
    "version": 3
   },
   "file_extension": ".py",
   "mimetype": "text/x-python",
   "name": "python",
   "nbconvert_exporter": "python",
   "pygments_lexer": "ipython3",
   "version": "3.7.4"
  }
 },
 "nbformat": 4,
 "nbformat_minor": 2
}
